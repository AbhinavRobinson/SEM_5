{
 "cells": [
  {
   "cell_type": "code",
   "execution_count": 60,
   "metadata": {},
   "outputs": [
    {
     "name": "stdout",
     "output_type": "stream",
     "text": [
      "p: 787\n"
     ]
    }
   ],
   "source": [
    "import sympy\n",
    "def computePQ():\n",
    "    q=sympy.randprime(100, 1000)\n",
    "\n",
    "    return (q)\n",
    "\n",
    "q=computePQ()\n",
    "print(\"p:\" ,q)"
   ]
  },
  {
   "cell_type": "code",
   "execution_count": 61,
   "metadata": {},
   "outputs": [
    {
     "name": "stdout",
     "output_type": "stream",
     "text": [
      "alpha: 2\n"
     ]
    }
   ],
   "source": [
    "from math import sqrt \n",
    " \n",
    "def isPrime( n):  \n",
    " \n",
    "    if (n <= 1): \n",
    "        return False\n",
    "    if (n <= 3): \n",
    "        return True\n",
    " \n",
    "    if (n % 2 == 0 or n % 3 == 0): \n",
    "        return False\n",
    "    i = 5\n",
    "    while(i * i <= n): \n",
    "        if (n % i == 0 or n % (i + 2) == 0) : \n",
    "            return False\n",
    "        i = i + 6\n",
    "  \n",
    "    return True\n",
    "\n",
    "def power( x, y, p):  \n",
    "  \n",
    "    res = 1   \n",
    "  \n",
    "    x = x % p  \n",
    "  \n",
    "    while (y > 0):  \n",
    " \n",
    "        if (y & 1): \n",
    "            res = (res * x) % p  \n",
    "   \n",
    "        y = y >> 1  \n",
    "        x = (x * x) % p  \n",
    "  \n",
    "    return res  \n",
    " \n",
    "def findPrimefactors(s, n) : \n",
    " \n",
    "    while (n % 2 == 0) : \n",
    "        s.add(2)  \n",
    "        n = n // 2\n",
    " \n",
    "    for i in range(3, int(sqrt(n)), 2): \n",
    " \n",
    "        while (n % i == 0) : \n",
    "  \n",
    "            s.add(i)  \n",
    "            n = n // i  \n",
    " \n",
    "    if (n > 2) : \n",
    "        s.add(n)  \n",
    "\n",
    "def findPrimitive( n) : \n",
    "    s = set()  \n",
    "\n",
    "    if (isPrime(n) == False):  \n",
    "        return -1\n",
    " \n",
    "    phi = n - 1\n",
    " \n",
    "    findPrimefactors(s, phi)  \n",
    " \n",
    "    for r in range(2, phi + 1):  \n",
    "  \n",
    "        flag = False\n",
    "        for it in s:  \n",
    "\n",
    "            if (power(r, phi // it, n) == 1):  \n",
    "  \n",
    "                flag = True\n",
    "                break\n",
    "  \n",
    "        if (flag == False): \n",
    "            return r  \n",
    " \n",
    "    return -1\n",
    "\n",
    "n = q\n",
    "print(\"alpha:\", findPrimitive(n)) "
   ]
  },
  {
   "cell_type": "code",
   "execution_count": null,
   "metadata": {},
   "outputs": [],
   "source": []
  },
  {
   "cell_type": "code",
   "execution_count": 62,
   "metadata": {},
   "outputs": [
    {
     "name": "stdout",
     "output_type": "stream",
     "text": [
      "Hs: 697\n"
     ]
    }
   ],
   "source": [
    "import random\n",
    "hs=random.randint(1,q)#private\n",
    "print(\"Hs:\",hs)\n",
    "    "
   ]
  },
  {
   "cell_type": "code",
   "execution_count": 63,
   "metadata": {},
   "outputs": [
    {
     "name": "stdout",
     "output_type": "stream",
     "text": [
      "19689528123227767666785301214765340613307263443287502861458298623369256843631508376886291572301417182822683032613391536007127090627827165644100943774797898254050717714568817090477131996843541858828551543535813259102911991060059383810185821774918188948284019476585205032187008306808263368967752348239125220016393431754952121259326025134194216242126872747945821400519993495778908186109600317195520836400067259803046722612235168546406878027102847994362614678479419222451000189652240433426031745106255725773732388211396845792178218213033338585829925473713907007979822745583863510168084189873352837470566709150413330352235553701818125928211476388962073876311475296544884049109007438640678471775185574951839237408047654697269372649303625178982640947344625457734543311796579708168785001672583512218542907247057785596213405424239264573966964247767826424332025600367488594328702755734446089423530103781974410282451431342073662372771271336253010003463867229096752985406417186898881534464419992618494823790331575049500237147410651239246958663105512671963780216463201449701907222447811147803126703843726733188495167617521410663172019208309677282942119172131865537986174654749444575957108831816485451772879302760343310150187061404301213092977941170023126552441177603693560867545811915981422611902431230308158721181142965883900441770637116167038484388669417462332447029029368819926504646987889729177310921290691810440989704032910229830070848169307603839173981297060803976572839901965190051128485914995017\n"
     ]
    }
   ],
   "source": [
    "po=pow(a,hs)\n",
    "print(po)"
   ]
  },
  {
   "cell_type": "code",
   "execution_count": 66,
   "metadata": {},
   "outputs": [
    {
     "name": "stdout",
     "output_type": "stream",
     "text": [
      "Hp: 524\n"
     ]
    }
   ],
   "source": [
    "hp=po%q\n",
    "print(\"Hp:\",hp)"
   ]
  },
  {
   "cell_type": "code",
   "execution_count": 67,
   "metadata": {},
   "outputs": [
    {
     "name": "stdout",
     "output_type": "stream",
     "text": [
      "Fs: 366\n"
     ]
    }
   ],
   "source": [
    "import random\n",
    "fs=random.randint(1,q)#private\n",
    "print(\"Fs:\", fs)"
   ]
  },
  {
   "cell_type": "code",
   "execution_count": 68,
   "metadata": {},
   "outputs": [
    {
     "name": "stdout",
     "output_type": "stream",
     "text": [
      "109579062177589178096707359976698491999459767435365729385165647162462392811398856927910960313435592957311943143914985998635448126615854543182428633171052479727196070378569648164604469535947910363980654963083867996296947489372979356517809266635707336511669191574063431739365034684798989710463899042882558119976567665983557249392945110613321755293290519205855473638822545063698820894324029417283089586263850070965233303344995388455616750282390663544364597001942097163981459772089164536123133691342819661636193431777360970789479036257708718512294298790726566480983344890562461098945008917632030049875302579550184890542373226959654149726036423062282976585745151043798662099661358260357747496439845606657438256484021656311645805726818685907940578385334759689568565158886715593388578684209\n"
     ]
    }
   ],
   "source": [
    "po1=pow(a,fs)\n",
    "print(po1)"
   ]
  },
  {
   "cell_type": "code",
   "execution_count": 69,
   "metadata": {},
   "outputs": [
    {
     "name": "stdout",
     "output_type": "stream",
     "text": [
      "Fp: 138\n"
     ]
    }
   ],
   "source": [
    "fp=po1%q\n",
    "print(\"Fp:\",fp)"
   ]
  },
  {
   "cell_type": "code",
   "execution_count": 70,
   "metadata": {},
   "outputs": [],
   "source": [
    "power1=pow(fp,hs)"
   ]
  },
  {
   "cell_type": "code",
   "execution_count": 71,
   "metadata": {},
   "outputs": [
    {
     "name": "stdout",
     "output_type": "stream",
     "text": [
      "Shared key SK: 345\n"
     ]
    }
   ],
   "source": [
    "kfh=power1%q\n",
    "print(\"Shared key SK:\", kfh)"
   ]
  },
  {
   "cell_type": "code",
   "execution_count": 72,
   "metadata": {},
   "outputs": [
    {
     "name": "stdout",
     "output_type": "stream",
     "text": [
      "345\n"
     ]
    }
   ],
   "source": [
    "power2=pow(hp,fs)\n",
    "kfh1=power2%q\n",
    "print(kfh1)"
   ]
  },
  {
   "cell_type": "code",
   "execution_count": 73,
   "metadata": {},
   "outputs": [],
   "source": [
    "#ncryption\n",
    "mod26=kfh1%26"
   ]
  },
  {
   "cell_type": "code",
   "execution_count": 74,
   "metadata": {},
   "outputs": [
    {
     "name": "stdout",
     "output_type": "stream",
     "text": [
      "Message is: 67051\n"
     ]
    }
   ],
   "source": [
    "m=random.randint(1,100000)\n",
    "print(\"Message is:\",m)"
   ]
  },
  {
   "cell_type": "code",
   "execution_count": 75,
   "metadata": {},
   "outputs": [
    {
     "name": "stdout",
     "output_type": "stream",
     "text": [
      "Encryption: 67058\n"
     ]
    }
   ],
   "source": [
    "c=m+mod26\n",
    "print(\"Encryption:\",c)"
   ]
  },
  {
   "cell_type": "code",
   "execution_count": 76,
   "metadata": {},
   "outputs": [
    {
     "name": "stdout",
     "output_type": "stream",
     "text": [
      "Decryption: 67051\n"
     ]
    }
   ],
   "source": [
    "#decryption\n",
    "de=c-mod26\n",
    "print(\"Decryption:\",de)"
   ]
  },
  {
   "cell_type": "code",
   "execution_count": null,
   "metadata": {},
   "outputs": [],
   "source": []
  }
 ],
 "metadata": {
  "kernelspec": {
   "display_name": "Python 3",
   "language": "python",
   "name": "python3"
  },
  "language_info": {
   "codemirror_mode": {
    "name": "ipython",
    "version": 3
   },
   "file_extension": ".py",
   "mimetype": "text/x-python",
   "name": "python",
   "nbconvert_exporter": "python",
   "pygments_lexer": "ipython3",
   "version": "3.8.3"
  }
 },
 "nbformat": 4,
 "nbformat_minor": 2
}
