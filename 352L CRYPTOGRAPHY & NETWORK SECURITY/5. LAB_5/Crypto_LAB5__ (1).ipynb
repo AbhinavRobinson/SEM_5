{
 "cells": [
  {
   "cell_type": "code",
   "execution_count": null,
   "metadata": {},
   "outputs": [],
   "source": [
    "import sympy\n",
    "def computePQ():\n",
    "    p=sympy.randprime(100, 1000)\n",
    "    q=sympy.randprime(100, 1000)\n",
    "    while q==p:\n",
    "        q=sympy.randprime(100, 1000)\n",
    "    return (p,q)\n",
    "\n",
    "p,q=computePQ()"
   ]
  },
  {
   "cell_type": "code",
   "execution_count": 10,
   "metadata": {},
   "outputs": [],
   "source": [
    "def computeN():\n",
    "    return p*q\n",
    "n=computeN()"
   ]
  },
  {
   "cell_type": "code",
   "execution_count": 11,
   "metadata": {},
   "outputs": [],
   "source": [
    "def computeFi():\n",
    "    return ((p-1)*(q-1))\n",
    "fi=computeFi()"
   ]
  },
  {
   "cell_type": "code",
   "execution_count": 12,
   "metadata": {},
   "outputs": [
    {
     "name": "stdout",
     "output_type": "stream",
     "text": [
      "3 805240\n"
     ]
    }
   ],
   "source": [
    "import math\n",
    "def computeE():\n",
    "    for x in range(2,fi):\n",
    "        if math.gcd(x,fi)==1:\n",
    "            return x\n",
    "    return -1\n",
    "\n",
    "e=computeE()\n",
    "while e==-1:\n",
    "    p,q=computePQ()\n",
    "    n=computeN()\n",
    "    fi=computeFi()\n",
    "    e=computeE()\n",
    "print(e,fi)"
   ]
  },
  {
   "cell_type": "code",
   "execution_count": 13,
   "metadata": {},
   "outputs": [
    {
     "name": "stdout",
     "output_type": "stream",
     "text": [
      "983 821 807043 805240 3 536827\n"
     ]
    }
   ],
   "source": [
    "def computeD(e,fi):\n",
    "    for d in range(1,fi):\n",
    "        if (e*d)%fi==1%fi:\n",
    "            return d;\n",
    "    return -1\n",
    "\n",
    "d=computeD(e,fi)\n",
    "\n",
    "print(p,q,n,fi,e,d)"
   ]
  },
  {
   "cell_type": "code",
   "execution_count": 14,
   "metadata": {},
   "outputs": [
    {
     "name": "stdout",
     "output_type": "stream",
     "text": [
      "(536827, 807043)\n",
      "(3, 807043)\n"
     ]
    }
   ],
   "source": [
    "publickey=(e,n)\n",
    "privatekey=(d,n)\n",
    "print(privatekey)\n",
    "print(publickey)"
   ]
  },
  {
   "cell_type": "code",
   "execution_count": null,
   "metadata": {},
   "outputs": [],
   "source": []
  },
  {
   "cell_type": "code",
   "execution_count": 7,
   "metadata": {},
   "outputs": [
    {
     "name": "stdout",
     "output_type": "stream",
     "text": [
      "136475 Encrypted message: 203130\n"
     ]
    }
   ],
   "source": [
    "#Encryption\n",
    "import random\n",
    "M=random.randint(1,n)\n",
    "C=(M**e)%n\n",
    "print(M,\"Encrypted message:\",C)"
   ]
  },
  {
   "cell_type": "code",
   "execution_count": 8,
   "metadata": {},
   "outputs": [
    {
     "name": "stdout",
     "output_type": "stream",
     "text": [
      "Decrypted Message: 136475\n"
     ]
    }
   ],
   "source": [
    "#Decryption\n",
    "M_R=(C**d)%n\n",
    "print(\"Decrypted Message:\", M_R)"
   ]
  },
  {
   "cell_type": "code",
   "execution_count": null,
   "metadata": {},
   "outputs": [],
   "source": []
  }
 ],
 "metadata": {
  "kernelspec": {
   "display_name": "Python 3",
   "language": "python",
   "name": "python3"
  },
  "language_info": {
   "codemirror_mode": {
    "name": "ipython",
    "version": 3
   },
   "file_extension": ".py",
   "mimetype": "text/x-python",
   "name": "python",
   "nbconvert_exporter": "python",
   "pygments_lexer": "ipython3",
   "version": "3.7.4"
  }
 },
 "nbformat": 4,
 "nbformat_minor": 4
}