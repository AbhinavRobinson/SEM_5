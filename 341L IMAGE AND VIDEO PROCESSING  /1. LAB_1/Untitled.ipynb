{
 "cells": [
  {
   "cell_type": "markdown",
   "metadata": {},
   "source": [
    "PIL READ AND SHOW"
   ]
  },
  {
   "cell_type": "code",
   "execution_count": 2,
   "metadata": {},
   "outputs": [],
   "source": [
    "from PIL import Image\n",
    "im = Image.open(\"/Users/regatte/Documents/MY GITHUB/SEM_5/341L IMAGE AND VIDEO PROCESSING/1. LAB_1/Screenshot 2020-08-16 at 11.39.19 AM.png\")\n",
    "im.show()"
   ]
  },
  {
   "cell_type": "markdown",
   "metadata": {},
   "source": [
    "PIL IMAGE INFO"
   ]
  },
  {
   "cell_type": "code",
   "execution_count": 4,
   "metadata": {},
   "outputs": [
    {
     "name": "stdout",
     "output_type": "stream",
     "text": [
      "width =  1512\n",
      "height =  872\n"
     ]
    }
   ],
   "source": [
    "width, height = im.size\n",
    "print(\"width = \" , width)\n",
    "print(\"height = \" , height)"
   ]
  },
  {
   "cell_type": "markdown",
   "metadata": {},
   "source": [
    "MATPLOTLIB\n"
   ]
  },
  {
   "cell_type": "code",
   "execution_count": 5,
   "metadata": {},
   "outputs": [
    {
     "name": "stdout",
     "output_type": "stream",
     "text": [
      "[[[1.         1.         1.         1.        ]\n",
      "  [1.         1.         1.         1.        ]\n",
      "  [1.         1.         1.         1.        ]\n",
      "  ...\n",
      "  [1.         1.         1.         1.        ]\n",
      "  [1.         1.         1.         1.        ]\n",
      "  [1.         1.         1.         1.        ]]\n",
      "\n",
      " [[1.         1.         1.         1.        ]\n",
      "  [1.         1.         1.         1.        ]\n",
      "  [1.         1.         1.         1.        ]\n",
      "  ...\n",
      "  [1.         1.         1.         1.        ]\n",
      "  [1.         1.         1.         1.        ]\n",
      "  [1.         1.         1.         1.        ]]\n",
      "\n",
      " [[1.         1.         1.         1.        ]\n",
      "  [1.         1.         1.         1.        ]\n",
      "  [1.         1.         1.         1.        ]\n",
      "  ...\n",
      "  [1.         1.         1.         1.        ]\n",
      "  [1.         1.         1.         1.        ]\n",
      "  [1.         1.         1.         1.        ]]\n",
      "\n",
      " ...\n",
      "\n",
      " [[0.09411765 0.11372549 0.35686275 1.        ]\n",
      "  [0.09411765 0.11372549 0.35686275 1.        ]\n",
      "  [0.09411765 0.11372549 0.35686275 1.        ]\n",
      "  ...\n",
      "  [0.09411765 0.11372549 0.35686275 1.        ]\n",
      "  [0.2627451  0.2784314  0.4745098  1.        ]\n",
      "  [1.         1.         1.         1.        ]]\n",
      "\n",
      " [[0.09411765 0.11372549 0.35686275 1.        ]\n",
      "  [0.09411765 0.11372549 0.35686275 1.        ]\n",
      "  [0.09411765 0.11372549 0.35686275 1.        ]\n",
      "  ...\n",
      "  [0.15294118 0.17254902 0.39607844 1.        ]\n",
      "  [0.83137256 0.8352941  0.8784314  1.        ]\n",
      "  [1.         1.         1.         1.        ]]\n",
      "\n",
      " [[0.09411765 0.11372549 0.35686275 1.        ]\n",
      "  [0.09411765 0.11372549 0.35686275 1.        ]\n",
      "  [0.09411765 0.11372549 0.35686275 1.        ]\n",
      "  ...\n",
      "  [0.7764706  0.78039217 0.8392157  1.        ]\n",
      "  [1.         1.         1.         1.        ]\n",
      "  [1.         1.         1.         1.        ]]]\n"
     ]
    }
   ],
   "source": [
    "%matplotlib inline\n",
    "import matplotlib.pyplot as plt\n",
    "import matplotlib.image as mpimg\n",
    "img = mpimg.imread('/Users/regatte/Documents/MY GITHUB/SEM_5/341L IMAGE AND VIDEO PROCESSING/1. LAB_1/Screenshot 2020-08-16 at 11.39.19 AM.png')\n",
    "print(img)"
   ]
  },
  {
   "cell_type": "markdown",
   "metadata": {},
   "source": [
    "Skimage"
   ]
  },
  {
   "cell_type": "code",
   "execution_count": 6,
   "metadata": {},
   "outputs": [
    {
     "name": "stderr",
     "output_type": "stream",
     "text": [
      "/Users/regatte/opt/anaconda3/lib/python3.8/site-packages/skimage/viewer/utils/__init__.py:1: UserWarning: Recommended matplotlib backend is `Agg` for full skimage.viewer functionality.\n",
      "  from .core import *\n"
     ]
    },
    {
     "data": {
      "text/plain": [
       "[]"
      ]
     },
     "execution_count": 6,
     "metadata": {},
     "output_type": "execute_result"
    }
   ],
   "source": [
    "import skimage.io\n",
    "image = skimage.io.imread(fname=\"/Users/regatte/Documents/MY GITHUB/SEM_5/341L IMAGE AND VIDEO PROCESSING/1. LAB_1/Screenshot 2020-08-16 at 11.39.19 AM.png\")\n",
    "import skimage.viewer\n",
    "viewer = skimage.viewer.ImageViewer(image)\n",
    "viewer.show()"
   ]
  },
  {
   "cell_type": "markdown",
   "metadata": {},
   "source": [
    "OPENCV, CONVERT IMAGE TO GRAYSCALE"
   ]
  },
  {
   "cell_type": "code",
   "execution_count": null,
   "metadata": {},
   "outputs": [
    {
     "name": "stdout",
     "output_type": "stream",
     "text": [
      "Collecting package metadata (current_repodata.json): done\n",
      "Solving environment: failed with initial frozen solve. Retrying with flexible solve.\n",
      "Solving environment: failed with repodata from current_repodata.json, will retry with next repodata source.\n",
      "Collecting package metadata (repodata.json): done\n",
      "Solving environment: \\ "
     ]
    }
   ],
   "source": [
    "conda install -c conda-forge opencv"
   ]
  },
  {
   "cell_type": "code",
   "execution_count": null,
   "metadata": {},
   "outputs": [],
   "source": [
    "import numpy as np\n",
    "import cv2"
   ]
  },
  {
   "cell_type": "code",
   "execution_count": null,
   "metadata": {},
   "outputs": [],
   "source": [
    "image = cv2.imread(\"/Users/regatte/Documents/MY GITHUB/SEM_5/341L IMAGE AND VIDEO PROCESSING/1. LAB_1/Screenshot 2020-08-16 at 11.39.19 AM.png\")\n",
    "gray = cv2.cvtColor(image, cv2.COLOR_BGR2GRAY)"
   ]
  },
  {
   "cell_type": "code",
   "execution_count": null,
   "metadata": {},
   "outputs": [],
   "source": [
    "cv2.imshow('Original image',image)\n",
    "cv2.imshow('Gray image', gray)"
   ]
  },
  {
   "cell_type": "code",
   "execution_count": null,
   "metadata": {},
   "outputs": [],
   "source": []
  }
 ],
 "metadata": {
  "kernelspec": {
   "display_name": "Python 3",
   "language": "python",
   "name": "python3"
  },
  "language_info": {
   "codemirror_mode": {
    "name": "ipython",
    "version": 3
   },
   "file_extension": ".py",
   "mimetype": "text/x-python",
   "name": "python",
   "nbconvert_exporter": "python",
   "pygments_lexer": "ipython3",
   "version": "3.8.3"
  }
 },
 "nbformat": 4,
 "nbformat_minor": 4
}
