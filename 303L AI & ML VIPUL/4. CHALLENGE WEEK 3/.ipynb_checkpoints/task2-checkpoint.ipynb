{
  "nbformat": 4,
  "nbformat_minor": 0,
  "metadata": {
    "colab": {
      "name": "Untitled12.ipynb",
      "provenance": []
    },
    "kernelspec": {
      "name": "python3",
      "display_name": "Python 3"
    }
  },
  "cells": [
    {
      "cell_type": "code",
      "metadata": {
        "id": "75q74vBSgmC8",
        "colab_type": "code",
        "colab": {}
      },
      "source": [
        "import numpy as np\n",
        "import pandas as pd\n",
        "from sklearn.model_selection import train_test_split\n",
        "from sklearn.linear_model import LogisticRegression\n",
        "from sklearn.metrics import accuracy_score\n",
        "import numdifftools as nd\n",
        "import matplotlib.pyplot as plt\n",
        "from sklearn.model_selection import cross_val_score"
      ],
      "execution_count": 45,
      "outputs": []
    },
    {
      "cell_type": "code",
      "metadata": {
        "id": "9oqHoDs7zCK1",
        "colab_type": "code",
        "colab": {
          "base_uri": "https://localhost:8080/",
          "height": 35
        },
        "outputId": "793350ae-be80-4891-dc93-c577a22da02d"
      },
      "source": [
        "!pip install numdifftools"
      ],
      "execution_count": 46,
      "outputs": [
        {
          "output_type": "stream",
          "text": [
            "Requirement already satisfied: numdifftools in /usr/local/lib/python3.6/dist-packages (0.9.39)\n"
          ],
          "name": "stdout"
        }
      ]
    },
    {
      "cell_type": "code",
      "metadata": {
        "id": "8AW_5sHl-ud0",
        "colab_type": "code",
        "colab": {}
      },
      "source": [
        "import pandas as pd\n",
        "import numpy as np\n",
        "import random"
      ],
      "execution_count": 47,
      "outputs": []
    },
    {
      "cell_type": "code",
      "metadata": {
        "id": "Z6TwyRgqgvpu",
        "colab_type": "code",
        "colab": {}
      },
      "source": [
        "random.seed(10)\n",
        "a = np.random.randint(0, 10, size=(10, 10))\n",
        "b=np.random.randint(0, 10, size=(10, 10))"
      ],
      "execution_count": 48,
      "outputs": []
    },
    {
      "cell_type": "code",
      "metadata": {
        "id": "9dzq5jqO-_A_",
        "colab_type": "code",
        "colab": {
          "base_uri": "https://localhost:8080/",
          "height": 191
        },
        "outputId": "8e94074d-302f-49ef-e5f4-01fa03b5e59f"
      },
      "source": [
        "a"
      ],
      "execution_count": 49,
      "outputs": [
        {
          "output_type": "execute_result",
          "data": {
            "text/plain": [
              "array([[1, 9, 6, 0, 6, 3, 9, 4, 2, 4],\n",
              "       [1, 1, 5, 1, 5, 0, 4, 6, 9, 0],\n",
              "       [2, 3, 1, 4, 1, 8, 0, 0, 1, 8],\n",
              "       [5, 5, 3, 2, 6, 7, 4, 9, 0, 7],\n",
              "       [7, 0, 0, 4, 6, 4, 5, 2, 7, 8],\n",
              "       [3, 1, 4, 0, 9, 7, 3, 9, 9, 6],\n",
              "       [3, 3, 2, 2, 7, 5, 9, 7, 0, 2],\n",
              "       [2, 5, 4, 2, 3, 6, 6, 8, 6, 0],\n",
              "       [0, 8, 5, 8, 4, 3, 0, 7, 6, 2],\n",
              "       [0, 9, 4, 9, 6, 7, 6, 1, 0, 6]])"
            ]
          },
          "metadata": {
            "tags": []
          },
          "execution_count": 49
        }
      ]
    },
    {
      "cell_type": "code",
      "metadata": {
        "id": "QvwkbWF3-_ui",
        "colab_type": "code",
        "colab": {}
      },
      "source": [
        "c=np.linalg.inv(a)"
      ],
      "execution_count": 50,
      "outputs": []
    },
    {
      "cell_type": "code",
      "metadata": {
        "id": "6Nzz5J7TAFSg",
        "colab_type": "code",
        "colab": {
          "base_uri": "https://localhost:8080/",
          "height": 364
        },
        "outputId": "b8ce1b2c-a484-4773-9433-3372d14650eb"
      },
      "source": [
        "c"
      ],
      "execution_count": 51,
      "outputs": [
        {
          "output_type": "execute_result",
          "data": {
            "text/plain": [
              "array([[-0.32571271,  0.07327769, -0.83046347,  0.72302801,  0.16200517,\n",
              "         0.02515415, -0.97761385,  0.51078242, -0.60045472,  0.76575557],\n",
              "       [ 0.10397828, -0.25685859, -0.1637896 , -0.02043656,  0.07439567,\n",
              "         0.07770933, -0.12527769,  0.10228885,  0.07227893,  0.01367263],\n",
              "       [-0.2900892 ,  0.45037479, -0.43300645,  0.62582082, -0.07705658,\n",
              "        -0.0725267 , -0.73263865,  0.26575764, -0.57376629,  0.65134755],\n",
              "       [-0.07001377,  0.10848218,  0.10381778, -0.03189141, -0.00473004,\n",
              "        -0.10061971,  0.13176236, -0.07348228,  0.07324193, -0.01594955],\n",
              "       [-0.14761088, -0.1017861 , -0.53431436,  0.25219491,  0.05698619,\n",
              "         0.21390714, -0.4362848 ,  0.16264041, -0.25904985,  0.4584885 ],\n",
              "       [-0.16701508, -0.03458014, -0.26675813,  0.19885693, -0.01125774,\n",
              "         0.11175844, -0.35899536,  0.2806709 , -0.28317293,  0.35232913],\n",
              "       [ 0.16964385,  0.04198046,  0.42733015, -0.33048676, -0.02584892,\n",
              "        -0.12710396,  0.51625749, -0.20018449,  0.23025717, -0.38457058],\n",
              "       [ 0.16446572, -0.01564797,  0.49132424, -0.31440626, -0.07700135,\n",
              "        -0.09083422,  0.61169583, -0.29150515,  0.40435407, -0.54311611],\n",
              "       [ 0.0905421 , -0.08243098,  0.1188637 , -0.20582157,  0.04823166,\n",
              "         0.0382528 ,  0.12006017, -0.0146456 ,  0.14131794, -0.16840888],\n",
              "       [ 0.28785303,  0.02507188,  0.71494335, -0.44002879, -0.05829706,\n",
              "        -0.11933227,  0.71560468, -0.46170274,  0.45599832, -0.65859888]])"
            ]
          },
          "metadata": {
            "tags": []
          },
          "execution_count": 51
        }
      ]
    },
    {
      "cell_type": "code",
      "metadata": {
        "id": "kF0Z2ca1ARLU",
        "colab_type": "code",
        "colab": {}
      },
      "source": [
        "d= a.T"
      ],
      "execution_count": 52,
      "outputs": []
    },
    {
      "cell_type": "code",
      "metadata": {
        "id": "I__80_8HAZn3",
        "colab_type": "code",
        "colab": {
          "base_uri": "https://localhost:8080/",
          "height": 191
        },
        "outputId": "8e3e5481-b9b6-4e44-e21c-4b0c868211e0"
      },
      "source": [
        "e=a.dot(d)\n",
        "e"
      ],
      "execution_count": 53,
      "outputs": [
        {
          "output_type": "execute_result",
          "data": {
            "text/plain": [
              "array([[280, 148,  99, 225, 154, 216, 216, 205, 183, 244],\n",
              "       [148, 186,  28, 127, 136, 216, 131, 170, 157,  98],\n",
              "       [ 99,  28, 160, 154, 139, 135,  88,  88, 111, 177],\n",
              "       [225, 127, 154, 294, 201, 270, 230, 207, 193, 235],\n",
              "       [154, 136, 139, 201, 259, 247, 166, 152, 140, 180],\n",
              "       [216, 216, 135, 270, 247, 363, 220, 240, 214, 191],\n",
              "       [216, 131,  88, 230, 166, 220, 234, 194, 146, 203],\n",
              "       [205, 170,  88, 207, 152, 240, 194, 230, 198, 183],\n",
              "       [183, 157, 111, 193, 140, 214, 146, 198, 267, 228],\n",
              "       [244,  98, 177, 235, 180, 191, 203, 183, 228, 336]])"
            ]
          },
          "metadata": {
            "tags": []
          },
          "execution_count": 53
        }
      ]
    },
    {
      "cell_type": "code",
      "metadata": {
        "id": "imd7WiH8AzIs",
        "colab_type": "code",
        "colab": {
          "base_uri": "https://localhost:8080/",
          "height": 780
        },
        "outputId": "14fa51d7-6a6c-4c64-ce45-5707a7a6d082"
      },
      "source": [
        "from numpy.linalg import eig\n",
        "# calculate eigendecomposition\n",
        "values, vectors = eig(a)\n",
        "print(values)\n",
        "print(vectors)"
      ],
      "execution_count": 54,
      "outputs": [
        {
          "output_type": "stream",
          "text": [
            "[42.20560402+0.j          9.28652422+0.j          8.15000611+0.j\n",
            " -6.27896074+2.4552612j  -6.27896074-2.4552612j  -1.83588303+4.50339606j\n",
            " -1.83588303-4.50339606j  2.19276881+3.47866733j  2.19276881-3.47866733j\n",
            " -0.79798444+0.j        ]\n",
            "[[ 0.30495652+0.j          0.14080077+0.j         -0.05110366+0.j\n",
            "   0.17338977-0.00740003j  0.17338977+0.00740003j -0.53377882+0.j\n",
            "  -0.53377882-0.j          0.14651539+0.16047755j  0.14651539-0.16047755j\n",
            "  -0.52570506+0.j        ]\n",
            " [ 0.22577122+0.j         -0.2810723 +0.j          0.23755121+0.j\n",
            "  -0.03396143+0.31794478j -0.03396143-0.31794478j -0.09901983-0.35972881j\n",
            "  -0.09901983+0.35972881j  0.30149174+0.14732563j  0.30149174-0.14732563j\n",
            "   0.01116295+0.j        ]\n",
            " [ 0.22753643+0.j          0.33310118+0.j         -0.51039249+0.j\n",
            "  -0.24307379-0.25747486j -0.24307379+0.25747486j -0.02868413+0.19993851j\n",
            "  -0.02868413-0.19993851j -0.38641404-0.03537055j -0.38641404+0.03537055j\n",
            "  -0.40555267+0.j        ]\n",
            " [ 0.36170592+0.j          0.10265909+0.j         -0.04659522+0.j\n",
            "  -0.01272097+0.06100869j -0.01272097-0.06100869j  0.07227024+0.47962861j\n",
            "   0.07227024-0.47962861j -0.23495629+0.04934459j -0.23495629-0.04934459j\n",
            "  -0.02668958+0.j        ]\n",
            " [ 0.33941287+0.j          0.39690384+0.j         -0.32303431+0.j\n",
            "  -0.5464446 +0.j         -0.5464446 -0.j         -0.0601882 +0.07318969j\n",
            "  -0.0601882 -0.07318969j  0.45001869+0.j          0.45001869-0.j\n",
            "  -0.28371533+0.j        ]\n",
            " [ 0.38859888+0.j         -0.08023654+0.j         -0.06108281+0.j\n",
            "  -0.04603264+0.30188527j -0.04603264-0.30188527j -0.2086681 +0.06163012j\n",
            "  -0.2086681 -0.06163012j  0.07232073-0.42717278j  0.07232073+0.42717278j\n",
            "  -0.2427001 +0.j        ]\n",
            " [ 0.2991525 +0.j          0.07166594+0.j          0.20175784+0.j\n",
            "   0.21071051+0.01222385j  0.21071051-0.01222385j  0.2496144 +0.01538497j\n",
            "   0.2496144 -0.01538497j -0.26481342+0.02261105j -0.26481342-0.02261105j\n",
            "   0.24824877+0.j        ]\n",
            " [ 0.3032824 +0.j         -0.52704887+0.j          0.54536427+0.j\n",
            "   0.02589003-0.16339999j  0.02589003+0.16339999j  0.00774838+0.04819458j\n",
            "   0.00774838-0.04819458j -0.2043062 -0.01781767j -0.2043062 +0.01781767j\n",
            "   0.31233809+0.j        ]\n",
            " [ 0.30948067+0.j         -0.37188533+0.j          0.20934539+0.j\n",
            "   0.25058971-0.02582462j  0.25058971+0.02582462j  0.19574803-0.18019485j\n",
            "   0.19574803+0.18019485j  0.2114024 +0.13422303j  0.2114024 -0.13422303j\n",
            "   0.12351557+0.j        ]\n",
            " [ 0.36050515+0.j          0.44101298+0.j         -0.43387793+0.j\n",
            "   0.35894966-0.28687335j  0.35894966+0.28687335j  0.22378296-0.24019277j\n",
            "   0.22378296+0.24019277j -0.229441  +0.11705676j -0.229441  -0.11705676j\n",
            "   0.49445719+0.j        ]]\n"
          ],
          "name": "stdout"
        }
      ]
    },
    {
      "cell_type": "code",
      "metadata": {
        "id": "fn8HZWY0Ex3W",
        "colab_type": "code",
        "colab": {
          "base_uri": "https://localhost:8080/",
          "height": 208
        },
        "outputId": "a227220e-ef4a-43b9-e571-58bd6cce5541"
      },
      "source": [
        "from sympy import Matrix\n",
        "from sympy.abc import x, y\n",
        "X = Matrix([8*x, 6*y, 3, 7*(y)**5, 0, 9*(x)**4, 7*x, 1*y, 6, 1*(y)**4])\n",
        "Y = Matrix([x, y])\n",
        "X.jacobian(Y)"
      ],
      "execution_count": 55,
      "outputs": [
        {
          "output_type": "execute_result",
          "data": {
            "text/plain": [
              "Matrix([\n",
              "[      8,       0],\n",
              "[      0,       6],\n",
              "[      0,       0],\n",
              "[      0, 35*y**4],\n",
              "[      0,       0],\n",
              "[36*x**3,       0],\n",
              "[      7,       0],\n",
              "[      0,       1],\n",
              "[      0,       0],\n",
              "[      0,  4*y**3]])"
            ]
          },
          "metadata": {
            "tags": []
          },
          "execution_count": 55
        }
      ]
    },
    {
      "cell_type": "code",
      "metadata": {
        "id": "wAZ2JUMgKi7L",
        "colab_type": "code",
        "colab": {
          "base_uri": "https://localhost:8080/",
          "height": 780
        },
        "outputId": "f313be1b-ff35-441a-d04e-b9efec5c2adf"
      },
      "source": [
        "import numpy as np\n",
        "\n",
        "def hessian(x):\n",
        "\n",
        "    x_grad = np.gradient(x) \n",
        "    hessian = np.empty((x.ndim, x.ndim) + x.shape, dtype=x.dtype) \n",
        "    for k, grad_k in enumerate(x_grad):\n",
        "        # iterate over dimensions\n",
        "        # apply gradient again to every component of the first derivative.\n",
        "        tmp_grad = np.gradient(grad_k) \n",
        "        for l, grad_kl in enumerate(tmp_grad):\n",
        "            hessian[k, l, :, :] = grad_kl\n",
        "    return hessian\n",
        "hessian(a)"
      ],
      "execution_count": 56,
      "outputs": [
        {
          "output_type": "execute_result",
          "data": {
            "text/plain": [
              "array([[[[  0,   5,  -1,   1,  -1,   5,   0,  -4,  -7,   6],\n",
              "         [  1,   5,   0,   0,   0,   3,   2,   0,  -5,   3],\n",
              "         [  1,   0,   1,  -1,   2,  -2,   3,   1,   1,  -1],\n",
              "         [ -1,  -2,   0,   0,   0,  -1,   0,   0,   4,  -2],\n",
              "         [ -2,   1,   0,   0,  -1,   1,   0,   0,  -3,  -1],\n",
              "         [  0,   2,   0,   1,  -2,   0,   1,   0,  -3,  -1],\n",
              "         [  0,   0,   0,   2,  -1,   0,  -3,  -1,   3,   1],\n",
              "         [  0,   0,   0,   1,   2,   0,   0,  -1,   0,   3],\n",
              "         [  0,   0,  -1,  -1,   1,   2,   5,  -3,  -4,   2],\n",
              "         [  1,  -1,  -1,  -2,   0,   3,   6,  -2,  -3,   1]],\n",
              "\n",
              "        [[ -8,   0,   4,   0,  -2,  -2,   2,   6,  -3, -11],\n",
              "         [ -3,  -1,   2,   0,   0,  -1,  -2,   2,   2,   2],\n",
              "         [  0,  -1,   0,   0,   1,   0,  -1,  -2,   1,   8],\n",
              "         [ -4,  -1,   0,   1,  -1,   0,   1,   0,   0,  -3],\n",
              "         [ -1,   0,   0,   0,   0,  -1,   0,   2,   0,  -5],\n",
              "         [  3,   1,  -1,   0,   0,   0,   1,  -2,  -2,   0],\n",
              "         [  2,   0,   0,  -1,   0,   2,   0,  -1,  -1,  -1],\n",
              "         [  4,   1,   0,  -1,  -2,  -1,   0,   3,   0,  -3],\n",
              "         [  3,   0,   0,   0,  -1,   0,  -2,  -1,   3,   6],\n",
              "         [  1,   0,   0,   1,   1,   2,  -5,  -6,   5,  10]]],\n",
              "\n",
              "\n",
              "       [[[ -8,   0,   4,   0,  -2,  -2,   2,   6,  -3, -11],\n",
              "         [ -3,  -1,   2,   0,   0,  -1,  -2,   2,   2,   2],\n",
              "         [  0,  -1,   0,   0,   1,   0,  -1,  -2,   1,   8],\n",
              "         [ -4,  -1,   0,   1,  -1,   0,   1,   0,   0,  -3],\n",
              "         [ -1,   0,   0,   0,   0,  -1,   0,   2,   0,  -5],\n",
              "         [  3,   1,  -1,   0,   0,   0,   1,  -2,  -2,   0],\n",
              "         [  2,   0,   0,  -1,   0,   2,   0,  -1,  -1,  -1],\n",
              "         [  4,   1,   0,  -1,  -2,  -1,   0,   3,   0,  -3],\n",
              "         [  3,   0,   0,   0,  -1,   0,  -2,  -1,   3,   6],\n",
              "         [  1,   0,   0,   1,   1,   2,  -5,  -6,   5,  10]],\n",
              "\n",
              "        [[ -5,  -6,  -1,   3,   0,   0,  -2,   0,   2,   2],\n",
              "         [  2,   0,  -1,   0,   0,   1,   1,  -3,  -5,  -6],\n",
              "         [ -1,   0,   0,   0,   0,  -3,   0,   4,   3,   3],\n",
              "         [ -1,   0,   1,   2,  -1,   0,   0,  -1,   4,   8],\n",
              "         [  3,   4,   3,  -1,  -1,   0,   0,   2,   0,  -2],\n",
              "         [  2,   0,   1,   2,  -2,  -1,   3,  -1,  -3,  -1],\n",
              "         [  0,   0,   1,   1,   0,   0,  -2,  -1,   3,   4],\n",
              "         [ -2,  -2,   0,   1,   1,   0,   0,  -2,  -3,  -2],\n",
              "         [ -5,  -4,  -1,  -1,   0,   2,   2,  -2,  -3,  -1],\n",
              "         [ -7,  -4,   0,   0,   0,  -1,  -1,   2,   4,   3]]]])"
            ]
          },
          "metadata": {
            "tags": []
          },
          "execution_count": 56
        }
      ]
    },
    {
      "cell_type": "code",
      "metadata": {
        "id": "-nBqr1QTOeCp",
        "colab_type": "code",
        "colab": {
          "base_uri": "https://localhost:8080/",
          "height": 257
        },
        "outputId": "e1077fc1-c3f4-43fa-9ba9-6baf15327806"
      },
      "source": [
        "data=pd.read_csv(\"/content/drive/My Drive/diabetes_data.csv\")\n",
        "data.head(5)"
      ],
      "execution_count": 57,
      "outputs": [
        {
          "output_type": "execute_result",
          "data": {
            "text/html": [
              "<div>\n",
              "<style scoped>\n",
              "    .dataframe tbody tr th:only-of-type {\n",
              "        vertical-align: middle;\n",
              "    }\n",
              "\n",
              "    .dataframe tbody tr th {\n",
              "        vertical-align: top;\n",
              "    }\n",
              "\n",
              "    .dataframe thead th {\n",
              "        text-align: right;\n",
              "    }\n",
              "</style>\n",
              "<table border=\"1\" class=\"dataframe\">\n",
              "  <thead>\n",
              "    <tr style=\"text-align: right;\">\n",
              "      <th></th>\n",
              "      <th>Age</th>\n",
              "      <th>Gender</th>\n",
              "      <th>Polyuria</th>\n",
              "      <th>Polydipsia</th>\n",
              "      <th>sudden weight loss</th>\n",
              "      <th>weakness</th>\n",
              "      <th>Polyphagia</th>\n",
              "      <th>Genital thrush</th>\n",
              "      <th>visual blurring</th>\n",
              "      <th>Itching</th>\n",
              "      <th>Irritability</th>\n",
              "      <th>delayed healing</th>\n",
              "      <th>partial paresis</th>\n",
              "      <th>muscle stiffness</th>\n",
              "      <th>Alopecia</th>\n",
              "      <th>Obesity</th>\n",
              "      <th>class</th>\n",
              "    </tr>\n",
              "  </thead>\n",
              "  <tbody>\n",
              "    <tr>\n",
              "      <th>0</th>\n",
              "      <td>40</td>\n",
              "      <td>Male</td>\n",
              "      <td>No</td>\n",
              "      <td>Yes</td>\n",
              "      <td>No</td>\n",
              "      <td>Yes</td>\n",
              "      <td>No</td>\n",
              "      <td>No</td>\n",
              "      <td>No</td>\n",
              "      <td>Yes</td>\n",
              "      <td>No</td>\n",
              "      <td>Yes</td>\n",
              "      <td>No</td>\n",
              "      <td>Yes</td>\n",
              "      <td>Yes</td>\n",
              "      <td>Yes</td>\n",
              "      <td>Positive</td>\n",
              "    </tr>\n",
              "    <tr>\n",
              "      <th>1</th>\n",
              "      <td>58</td>\n",
              "      <td>Male</td>\n",
              "      <td>No</td>\n",
              "      <td>No</td>\n",
              "      <td>No</td>\n",
              "      <td>Yes</td>\n",
              "      <td>No</td>\n",
              "      <td>No</td>\n",
              "      <td>Yes</td>\n",
              "      <td>No</td>\n",
              "      <td>No</td>\n",
              "      <td>No</td>\n",
              "      <td>Yes</td>\n",
              "      <td>No</td>\n",
              "      <td>Yes</td>\n",
              "      <td>No</td>\n",
              "      <td>Positive</td>\n",
              "    </tr>\n",
              "    <tr>\n",
              "      <th>2</th>\n",
              "      <td>41</td>\n",
              "      <td>Male</td>\n",
              "      <td>Yes</td>\n",
              "      <td>No</td>\n",
              "      <td>No</td>\n",
              "      <td>Yes</td>\n",
              "      <td>Yes</td>\n",
              "      <td>No</td>\n",
              "      <td>No</td>\n",
              "      <td>Yes</td>\n",
              "      <td>No</td>\n",
              "      <td>Yes</td>\n",
              "      <td>No</td>\n",
              "      <td>Yes</td>\n",
              "      <td>Yes</td>\n",
              "      <td>No</td>\n",
              "      <td>Positive</td>\n",
              "    </tr>\n",
              "    <tr>\n",
              "      <th>3</th>\n",
              "      <td>45</td>\n",
              "      <td>Male</td>\n",
              "      <td>No</td>\n",
              "      <td>No</td>\n",
              "      <td>Yes</td>\n",
              "      <td>Yes</td>\n",
              "      <td>Yes</td>\n",
              "      <td>Yes</td>\n",
              "      <td>No</td>\n",
              "      <td>Yes</td>\n",
              "      <td>No</td>\n",
              "      <td>Yes</td>\n",
              "      <td>No</td>\n",
              "      <td>No</td>\n",
              "      <td>No</td>\n",
              "      <td>No</td>\n",
              "      <td>Positive</td>\n",
              "    </tr>\n",
              "    <tr>\n",
              "      <th>4</th>\n",
              "      <td>60</td>\n",
              "      <td>Male</td>\n",
              "      <td>Yes</td>\n",
              "      <td>Yes</td>\n",
              "      <td>Yes</td>\n",
              "      <td>Yes</td>\n",
              "      <td>Yes</td>\n",
              "      <td>No</td>\n",
              "      <td>Yes</td>\n",
              "      <td>Yes</td>\n",
              "      <td>Yes</td>\n",
              "      <td>Yes</td>\n",
              "      <td>Yes</td>\n",
              "      <td>Yes</td>\n",
              "      <td>Yes</td>\n",
              "      <td>Yes</td>\n",
              "      <td>Positive</td>\n",
              "    </tr>\n",
              "  </tbody>\n",
              "</table>\n",
              "</div>"
            ],
            "text/plain": [
              "   Age Gender Polyuria Polydipsia  ... muscle stiffness Alopecia Obesity     class\n",
              "0   40   Male       No        Yes  ...              Yes      Yes     Yes  Positive\n",
              "1   58   Male       No         No  ...               No      Yes      No  Positive\n",
              "2   41   Male      Yes         No  ...              Yes      Yes      No  Positive\n",
              "3   45   Male       No         No  ...               No       No      No  Positive\n",
              "4   60   Male      Yes        Yes  ...              Yes      Yes     Yes  Positive\n",
              "\n",
              "[5 rows x 17 columns]"
            ]
          },
          "metadata": {
            "tags": []
          },
          "execution_count": 57
        }
      ]
    },
    {
      "cell_type": "code",
      "metadata": {
        "id": "-eB1wSfFp3we",
        "colab_type": "code",
        "colab": {}
      },
      "source": [
        "x=['Gender','Polyuria','Polydipsia','sudden weight loss','weakness','Polyphagia','Genital thrush','visual blurring','Itching','Irritability','delayed healing','partial paresis','muscle stiffness','Alopecia','Obesity','class']\n"
      ],
      "execution_count": 58,
      "outputs": []
    },
    {
      "cell_type": "code",
      "metadata": {
        "id": "KSVYZoItqK_t",
        "colab_type": "code",
        "colab": {}
      },
      "source": [
        "from sklearn.preprocessing import LabelEncoder\n",
        "le=LabelEncoder()"
      ],
      "execution_count": 59,
      "outputs": []
    },
    {
      "cell_type": "code",
      "metadata": {
        "id": "T2hJb1ydqgKX",
        "colab_type": "code",
        "colab": {}
      },
      "source": [
        "for i in x:\n",
        "  data[i]=le.fit_transform(data[i])\n",
        "\n"
      ],
      "execution_count": 60,
      "outputs": []
    },
    {
      "cell_type": "code",
      "metadata": {
        "id": "cEba3Qky3Uxy",
        "colab_type": "code",
        "colab": {
          "base_uri": "https://localhost:8080/",
          "height": 257
        },
        "outputId": "1bd66fe3-e8af-4135-ac67-a22146aba2f1"
      },
      "source": [
        "#normalise age feature\n",
        "normalize=(data.iloc[:,1]-data.iloc[:,1].mean())/data.iloc[:,1].std()\n",
        "data.insert(1, 'age normalize', normalize)\n",
        "data.head()\n"
      ],
      "execution_count": 61,
      "outputs": [
        {
          "output_type": "execute_result",
          "data": {
            "text/html": [
              "<div>\n",
              "<style scoped>\n",
              "    .dataframe tbody tr th:only-of-type {\n",
              "        vertical-align: middle;\n",
              "    }\n",
              "\n",
              "    .dataframe tbody tr th {\n",
              "        vertical-align: top;\n",
              "    }\n",
              "\n",
              "    .dataframe thead th {\n",
              "        text-align: right;\n",
              "    }\n",
              "</style>\n",
              "<table border=\"1\" class=\"dataframe\">\n",
              "  <thead>\n",
              "    <tr style=\"text-align: right;\">\n",
              "      <th></th>\n",
              "      <th>Age</th>\n",
              "      <th>age normalize</th>\n",
              "      <th>Gender</th>\n",
              "      <th>Polyuria</th>\n",
              "      <th>Polydipsia</th>\n",
              "      <th>sudden weight loss</th>\n",
              "      <th>weakness</th>\n",
              "      <th>Polyphagia</th>\n",
              "      <th>Genital thrush</th>\n",
              "      <th>visual blurring</th>\n",
              "      <th>Itching</th>\n",
              "      <th>Irritability</th>\n",
              "      <th>delayed healing</th>\n",
              "      <th>partial paresis</th>\n",
              "      <th>muscle stiffness</th>\n",
              "      <th>Alopecia</th>\n",
              "      <th>Obesity</th>\n",
              "      <th>class</th>\n",
              "    </tr>\n",
              "  </thead>\n",
              "  <tbody>\n",
              "    <tr>\n",
              "      <th>0</th>\n",
              "      <td>40</td>\n",
              "      <td>0.764356</td>\n",
              "      <td>1</td>\n",
              "      <td>0</td>\n",
              "      <td>1</td>\n",
              "      <td>0</td>\n",
              "      <td>1</td>\n",
              "      <td>0</td>\n",
              "      <td>0</td>\n",
              "      <td>0</td>\n",
              "      <td>1</td>\n",
              "      <td>0</td>\n",
              "      <td>1</td>\n",
              "      <td>0</td>\n",
              "      <td>1</td>\n",
              "      <td>1</td>\n",
              "      <td>1</td>\n",
              "      <td>1</td>\n",
              "    </tr>\n",
              "    <tr>\n",
              "      <th>1</th>\n",
              "      <td>58</td>\n",
              "      <td>0.764356</td>\n",
              "      <td>1</td>\n",
              "      <td>0</td>\n",
              "      <td>0</td>\n",
              "      <td>0</td>\n",
              "      <td>1</td>\n",
              "      <td>0</td>\n",
              "      <td>0</td>\n",
              "      <td>1</td>\n",
              "      <td>0</td>\n",
              "      <td>0</td>\n",
              "      <td>0</td>\n",
              "      <td>1</td>\n",
              "      <td>0</td>\n",
              "      <td>1</td>\n",
              "      <td>0</td>\n",
              "      <td>1</td>\n",
              "    </tr>\n",
              "    <tr>\n",
              "      <th>2</th>\n",
              "      <td>41</td>\n",
              "      <td>0.764356</td>\n",
              "      <td>1</td>\n",
              "      <td>1</td>\n",
              "      <td>0</td>\n",
              "      <td>0</td>\n",
              "      <td>1</td>\n",
              "      <td>1</td>\n",
              "      <td>0</td>\n",
              "      <td>0</td>\n",
              "      <td>1</td>\n",
              "      <td>0</td>\n",
              "      <td>1</td>\n",
              "      <td>0</td>\n",
              "      <td>1</td>\n",
              "      <td>1</td>\n",
              "      <td>0</td>\n",
              "      <td>1</td>\n",
              "    </tr>\n",
              "    <tr>\n",
              "      <th>3</th>\n",
              "      <td>45</td>\n",
              "      <td>0.764356</td>\n",
              "      <td>1</td>\n",
              "      <td>0</td>\n",
              "      <td>0</td>\n",
              "      <td>1</td>\n",
              "      <td>1</td>\n",
              "      <td>1</td>\n",
              "      <td>1</td>\n",
              "      <td>0</td>\n",
              "      <td>1</td>\n",
              "      <td>0</td>\n",
              "      <td>1</td>\n",
              "      <td>0</td>\n",
              "      <td>0</td>\n",
              "      <td>0</td>\n",
              "      <td>0</td>\n",
              "      <td>1</td>\n",
              "    </tr>\n",
              "    <tr>\n",
              "      <th>4</th>\n",
              "      <td>60</td>\n",
              "      <td>0.764356</td>\n",
              "      <td>1</td>\n",
              "      <td>1</td>\n",
              "      <td>1</td>\n",
              "      <td>1</td>\n",
              "      <td>1</td>\n",
              "      <td>1</td>\n",
              "      <td>0</td>\n",
              "      <td>1</td>\n",
              "      <td>1</td>\n",
              "      <td>1</td>\n",
              "      <td>1</td>\n",
              "      <td>1</td>\n",
              "      <td>1</td>\n",
              "      <td>1</td>\n",
              "      <td>1</td>\n",
              "      <td>1</td>\n",
              "    </tr>\n",
              "  </tbody>\n",
              "</table>\n",
              "</div>"
            ],
            "text/plain": [
              "   Age  age normalize  Gender  ...  Alopecia  Obesity  class\n",
              "0   40       0.764356       1  ...         1        1      1\n",
              "1   58       0.764356       1  ...         1        0      1\n",
              "2   41       0.764356       1  ...         1        0      1\n",
              "3   45       0.764356       1  ...         0        0      1\n",
              "4   60       0.764356       1  ...         1        1      1\n",
              "\n",
              "[5 rows x 18 columns]"
            ]
          },
          "metadata": {
            "tags": []
          },
          "execution_count": 61
        }
      ]
    },
    {
      "cell_type": "code",
      "metadata": {
        "id": "q4rr0kqB3maw",
        "colab_type": "code",
        "colab": {}
      },
      "source": [
        "X = data.drop([\"class\"],axis=1)\n",
        "y = data[\"class\"]\n"
      ],
      "execution_count": 62,
      "outputs": []
    },
    {
      "cell_type": "code",
      "metadata": {
        "id": "XEOYnufX36pI",
        "colab_type": "code",
        "colab": {}
      },
      "source": [
        "from sklearn.model_selection import train_test_split\n",
        "X_train, X_test, y_train, y_test=train_test_split(X,y,test_size=0.15)"
      ],
      "execution_count": 63,
      "outputs": []
    },
    {
      "cell_type": "code",
      "metadata": {
        "id": "9EVXH4OU4pyd",
        "colab_type": "code",
        "colab": {}
      },
      "source": [
        "def predict(X, weights):\n",
        "    '''Predict class for X.\n",
        "    For the given dataset, predicted vector has only values 0/1\n",
        "    Args:\n",
        "        X : Numpy array (num_samples, num_features)\n",
        "        weights : Model weights for logistic regression\n",
        "    Returns:\n",
        "        Binary predictions : (num_samples,)\n",
        "    '''\n",
        "\n",
        "    ### START CODE HERE ###\n",
        "    z = np.dot(X, weights)\n",
        "    #logits = \n",
        "    y_pred = sigmoid(z)\n",
        "    ### END CODE HERE ###\n",
        "    \n",
        "    return y_pred"
      ],
      "execution_count": 77,
      "outputs": []
    },
    {
      "cell_type": "code",
      "metadata": {
        "id": "4sHnybaI6Nbq",
        "colab_type": "code",
        "colab": {}
      },
      "source": [
        "def sigmoid(z):\n",
        "        '''Sigmoid function: f:R->(0,1)\n",
        "        Args:\n",
        "            z : A numpy array (num_samples,)\n",
        "        Returns:\n",
        "            A numpy array where sigmoid function applied to every element\n",
        "        '''\n",
        "        ### START CODE HERE\n",
        "        sig_z = 1 / (1 + np.exp(-z))\n",
        "        ### END CODE HERE\n",
        "        \n",
        "        assert (z.shape==sig_z.shape), 'Error in sigmoid implementation. Check carefully'\n",
        "        return sig_z"
      ],
      "execution_count": 76,
      "outputs": []
    },
    {
      "cell_type": "code",
      "metadata": {
        "id": "xRXPB2076aDQ",
        "colab_type": "code",
        "colab": {}
      },
      "source": [
        "def cross_entropy_loss(y_true, y_pred):\n",
        "    '''Calculate cross entropy loss\n",
        "    Note: Cross entropy is defined for multiple classes/labels as well\n",
        "    but for this dataset we only need binary cross entropy loss\n",
        "    Args:\n",
        "        y_true : Numpy array of true values (0/1) of size (num_samples,)\n",
        "        y_pred : Numpy array of predicted values (probabilites) of size (num_samples,)\n",
        "    Returns:\n",
        "        Cross entropy loss: A scalar value\n",
        "    '''\n",
        "    # Fix 0 values in y_pred\n",
        "    y_pred = np.maximum(np.full(y_pred.shape, 1e-7), np.minimum(np.full(y_pred.shape, 1-1e-7), y_pred))\n",
        "    \n",
        "    ### START CODE HERE\n",
        "    ce_loss = ((y_true*np.log(y_pred) + (1-y_true)*np.log(1-y_pred)).mean())\n",
        "    ### END CODE HERE\n",
        "    \n",
        "    return ce_loss"
      ],
      "execution_count": 75,
      "outputs": []
    },
    {
      "cell_type": "code",
      "metadata": {
        "id": "23DKc7OV6tiE",
        "colab_type": "code",
        "colab": {}
      },
      "source": [
        "def newton_optimization(X, y, max_iterations=25):\n",
        "    '''Implement netwon method for optimizing weights\n",
        "    Args:\n",
        "        X : Numpy array (num_samples, num_features)\n",
        "        max_iterations : Max iterations to update the weights\n",
        "    Returns:\n",
        "        Optimal weights (num_features,)\n",
        "    '''\n",
        "    num_samples = X.shape[0]\n",
        "    num_features = X.shape[1]\n",
        "    # Initialize random weights\n",
        "    weights = np.zeros(num_features,)\n",
        "    # Initialize losses\n",
        "    losses = []\n",
        "    \n",
        "    # Newton Method\n",
        "    for i in range(max_iterations):\n",
        "        # Predict/Calculate probabilties using sigmoid function\n",
        "        y_p = predict(X, weights)\n",
        "        \n",
        "        # Define gradient for J (cost function) i.e. cross entropy loss\n",
        "        gradient = (1/(num_samples))*np.dot(X.transpose(), ( y_p - y ))\n",
        "        \n",
        "        # Define hessian matrix for cross entropy loss\n",
        "        #hessian =(np.dot(np.dot(y_p,1-y_p),np.dot(X,np.transpose(X)))).mean()\n",
        "        hessian=1/(num_samples)* X.T.dot(np.diag(y_p).dot(np.diag(1-y_p)).dot(X))\n",
        "        nh =np.linalg.inv(hessian)\n",
        "        # Update the model using hessian matrix and gradient computed\n",
        "        \n",
        "        weights= weights - np.dot(nh, gradient)\n",
        "        \n",
        "        # Calculate cross entropy loss\n",
        "        loss = cross_entropy_loss(y, y_p)\n",
        "        # Append it\n",
        "        losses.append(loss)\n",
        "\n",
        "    return weights, losses"
      ],
      "execution_count": 74,
      "outputs": []
    },
    {
      "cell_type": "code",
      "metadata": {
        "id": "1S-f-kr76zax",
        "colab_type": "code",
        "colab": {}
      },
      "source": [
        "# Train weights\n",
        "weights, losses = newton_optimization(X_train, y_train)"
      ],
      "execution_count": 71,
      "outputs": []
    },
    {
      "cell_type": "code",
      "metadata": {
        "id": "-UA_hK2663Xe",
        "colab_type": "code",
        "colab": {
          "base_uri": "https://localhost:8080/",
          "height": 295
        },
        "outputId": "62a1077a-4926-4448-b9cf-569bbdcd39de"
      },
      "source": [
        "# Plot the loss curve\n",
        "plt.plot([i+1 for i in range(len(losses))], losses)\n",
        "plt.title(\"Loss curve\")\n",
        "plt.xlabel(\"Iteration num\")\n",
        "plt.ylabel(\"Cross entropy curve\")\n",
        "plt.show()"
      ],
      "execution_count": 72,
      "outputs": [
        {
          "output_type": "display_data",
          "data": {
            "image/png": "[encoded data removed]",
            "text/plain": [
              "<Figure size 432x288 with 1 Axes>"
            ]
          },
          "metadata": {
            "tags": [],
            "needs_background": "light"
          }
        }
      ]
    },
    {
      "cell_type": "code",
      "metadata": {
        "id": "JwmiPjIH655x",
        "colab_type": "code",
        "colab": {
          "base_uri": "https://localhost:8080/",
          "height": 52
        },
        "outputId": "01ab7233-7d14-47c8-d360-40df3906d757"
      },
      "source": [
        "our_model_test_acuracy = accuracy_score(y_test, predict(X_test, weights).round())\n",
        "\n",
        "print(f\"\\nAccuracy in testing set by our model: {our_model_test_acuracy}\")"
      ],
      "execution_count": 80,
      "outputs": [
        {
          "output_type": "stream",
          "text": [
            "\n",
            "Accuracy in testing set by our model: 0.8717948717948718\n"
          ],
          "name": "stdout"
        }
      ]
    },
    {
      "cell_type": "code",
      "metadata": {
        "id": "itreF2yP7nqj",
        "colab_type": "code",
        "colab": {}
      },
      "source": [
        ""
      ],
      "execution_count": null,
      "outputs": []
    },
    {
      "cell_type": "markdown",
      "metadata": {
        "id": "cMOAL-wy9bef",
        "colab_type": "text"
      },
      "source": [
        "Compare with the scikit learn implementation\n"
      ]
    },
    {
      "cell_type": "code",
      "metadata": {
        "id": "peIsP2WK9cS0",
        "colab_type": "code",
        "colab": {}
      },
      "source": [
        "model = LogisticRegression(solver='newton-cg', verbose=1)"
      ],
      "execution_count": 81,
      "outputs": []
    },
    {
      "cell_type": "code",
      "metadata": {
        "id": "tX5CXFfc9gR3",
        "colab_type": "code",
        "colab": {
          "base_uri": "https://localhost:8080/",
          "height": 139
        },
        "outputId": "51af7dca-fd63-4a16-9736-43204862faed"
      },
      "source": [
        "model.fit(X_train, y_train)"
      ],
      "execution_count": 82,
      "outputs": [
        {
          "output_type": "stream",
          "text": [
            "[Parallel(n_jobs=1)]: Using backend SequentialBackend with 1 concurrent workers.\n",
            "[Parallel(n_jobs=1)]: Done   1 out of   1 | elapsed:    0.0s finished\n"
          ],
          "name": "stderr"
        },
        {
          "output_type": "execute_result",
          "data": {
            "text/plain": [
              "LogisticRegression(C=1.0, class_weight=None, dual=False, fit_intercept=True,\n",
              "                   intercept_scaling=1, l1_ratio=None, max_iter=100,\n",
              "                   multi_class='auto', n_jobs=None, penalty='l2',\n",
              "                   random_state=None, solver='newton-cg', tol=0.0001, verbose=1,\n",
              "                   warm_start=False)"
            ]
          },
          "metadata": {
            "tags": []
          },
          "execution_count": 82
        }
      ]
    },
    {
      "cell_type": "code",
      "metadata": {
        "id": "kwY1qQRk9jIY",
        "colab_type": "code",
        "colab": {}
      },
      "source": [
        "y_pred = model.predict(X_test)"
      ],
      "execution_count": 83,
      "outputs": []
    },
    {
      "cell_type": "code",
      "metadata": {
        "id": "wM19-64x9mss",
        "colab_type": "code",
        "colab": {
          "base_uri": "https://localhost:8080/",
          "height": 52
        },
        "outputId": "a04ae344-5ee7-41db-b3d0-67dd96a773ed"
      },
      "source": [
        "sklearn_test_accuracy = accuracy_score(y_test, y_pred)\n",
        "\n",
        "print(f\"\\nAccuracy in testing set by sklearn model: {sklearn_test_accuracy}\")"
      ],
      "execution_count": 84,
      "outputs": [
        {
          "output_type": "stream",
          "text": [
            "\n",
            "Accuracy in testing set by sklearn model: 0.9230769230769231\n"
          ],
          "name": "stdout"
        }
      ]
    },
    {
      "cell_type": "code",
      "metadata": {
        "id": "HiTzOSQM9px4",
        "colab_type": "code",
        "colab": {}
      },
      "source": [
        ""
      ],
      "execution_count": null,
      "outputs": []
    }
  ]
}