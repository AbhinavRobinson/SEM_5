{
 "cells": [
  {
   "cell_type": "markdown",
   "metadata": {},
   "source": [
    "### Task Image:\n",
    "\n",
    "#### Dataset Link:\n",
    "RGB Dataset can be found at \" /data/rgb-images/ \" in the respective challenge's repo.<br>\n",
    "DICOM Dataset can be found at \" /data/dicom-images/ \" in the respective challenge's repo.\n",
    "\n",
    "#### Description:\n",
    "Images are needed to be preprocessed before feeding them into computer vision algorithms. Comman forms of image data are: 2D, RGB, dicom format, satellite images and 4D images. 2D images are grayscale images, RGB images are 3-channeled images representing color value of pixel, DICOM format is the standard for the communication and management of medical imaging information and related data, and 4D images (example - brain MRI scans) are slices of 3D images stacked on top of each other.\n",
    "\n",
    "#### Objective:\n",
    "How to load and process various formats of image for machine learning (Check out helpful links section to get hints)\n",
    "\n",
    "#### Tasks:\n",
    "- Read the rgb images provided and store their numerical representation in numpy array (matplotlib or PIL)\n",
    "- Plot rgb image '9.jpeg'\n",
    "- Print dimensions of image '12.jpeg'\n",
    "- Convert any 5 images to grayscale and plot them\n",
    "\n",
    "- Read the dicom images provided (dicom.read_file function)\n",
    "- Print numerical representation of image '0009.DCM' (dicom_img.pixel_array attribute)\n",
    "- Plot any dicom image (matplotlib.pyplot.imshow function)\n",
    "\n",
    "#### Further fun (will not be evaluated):\n",
    "- You already got familiar with complex unstructured data like rgb and dicom images, let's apply those skills to 2D images as well. Download the famous MNIST Dataset from https://www.kaggle.com/c/digit-recognizer/data . Read those 2D images and explore the dataset. Try out edge detection using sobel filter without using any libraries other than numpy.\n",
    "- DICOM format contains much more information than just pixel values. Explore the data further.\n",
    "\n",
    "#### Helpful Links:\n",
    "- Awesome tutorial on image processing with numpy: http://www.degeneratestate.org/posts/2016/Oct/23/image-processing-with-numpy/\n",
    "- Understand pydicom data structure and images - https://www.kaggle.com/avirdee/understanding-dicoms"
   ]
  },
  {
   "cell_type": "code",
   "execution_count": 2,
   "metadata": {},
   "outputs": [
    {
     "name": "stdout",
     "output_type": "stream",
     "text": [
      "Collecting pydicom\n",
      "  Downloading pydicom-2.0.0-py3-none-any.whl (35.4 MB)\n",
      "\u001b[K     |████████████████████████████████| 35.4 MB 7.6 MB/s eta 0:00:01\n",
      "\u001b[?25hInstalling collected packages: pydicom\n",
      "Successfully installed pydicom-2.0.0\n",
      "Note: you may need to restart the kernel to use updated packages.\n"
     ]
    }
   ],
   "source": [
    "pip install pydicom"
   ]
  },
  {
   "cell_type": "code",
   "execution_count": 12,
   "metadata": {},
   "outputs": [],
   "source": [
    "\n",
    "import os\n",
    "import numpy as np\n",
    "import pandas as pd\n",
    "import pydicom\n",
    "import matplotlib.pyplot as plt\n",
    "from PIL import Image, ImageOps"
   ]
  },
  {
   "cell_type": "markdown",
   "metadata": {},
   "source": [
    "READ AND NUMERICAL REPRESENATION OF AN IMAGE"
   ]
  },
  {
   "cell_type": "code",
   "execution_count": 4,
   "metadata": {},
   "outputs": [
    {
     "name": "stdout",
     "output_type": "stream",
     "text": [
      "[[[142 123 109]\n",
      "  [141 122 108]\n",
      "  [140 121 107]\n",
      "  ...\n",
      "  [136 117 102]\n",
      "  [137 118 103]\n",
      "  [138 119 104]]\n",
      "\n",
      " [[143 124 110]\n",
      "  [142 123 109]\n",
      "  [141 122 108]\n",
      "  ...\n",
      "  [137 118 103]\n",
      "  [137 118 103]\n",
      "  [137 118 103]]\n",
      "\n",
      " [[143 124 110]\n",
      "  [143 124 110]\n",
      "  [142 123 109]\n",
      "  ...\n",
      "  [139 120 105]\n",
      "  [138 119 104]\n",
      "  [137 118 103]]\n",
      "\n",
      " ...\n",
      "\n",
      " [[132 118 107]\n",
      "  [132 118 107]\n",
      "  [132 118 107]\n",
      "  ...\n",
      "  [141 128 109]\n",
      "  [142 129 110]\n",
      "  [142 129 110]]\n",
      "\n",
      " [[133 119 108]\n",
      "  [133 119 108]\n",
      "  [133 119 108]\n",
      "  ...\n",
      "  [141 128 109]\n",
      "  [141 128 109]\n",
      "  [142 129 110]]\n",
      "\n",
      " [[133 119 108]\n",
      "  [133 119 108]\n",
      "  [133 119 108]\n",
      "  ...\n",
      "  [142 129 110]\n",
      "  [142 129 110]\n",
      "  [142 129 110]]]\n"
     ]
    }
   ],
   "source": [
    "import matplotlib.image as mpimg\n",
    "img = mpimg.imread('/Users/apple/Desktop/challenge-week-1/data/rgb_images/1.jpeg')\n",
    "print(img)"
   ]
  },
  {
   "cell_type": "markdown",
   "metadata": {},
   "source": [
    "PLOT IMG 9"
   ]
  },
  {
   "cell_type": "code",
   "execution_count": 6,
   "metadata": {},
   "outputs": [
    {
     "data": {
      "image/png": "[encoded data removed]",
      "text/plain": [
       "<Figure size 432x288 with 1 Axes>"
      ]
     },
     "metadata": {
      "needs_background": "light"
     },
     "output_type": "display_data"
    }
   ],
   "source": [
    "img9 = mpimg.imread(\"/Users/apple/Desktop/challenge-week-1/data/rgb_images/9.jpeg\")\n",
    "plt.imshow(img)\n",
    "plt.show()"
   ]
  },
  {
   "cell_type": "markdown",
   "metadata": {},
   "source": [
    "Print dimensions of image '12.jpeg'"
   ]
  },
  {
   "cell_type": "code",
   "execution_count": 8,
   "metadata": {},
   "outputs": [
    {
     "name": "stdout",
     "output_type": "stream",
     "text": [
      "width:  590\n",
      "height:  1280\n"
     ]
    }
   ],
   "source": [
    "image = Image.open(\"/Users/apple/Desktop/challenge-week-1/data/rgb_images/9.jpeg\")\n",
    "width, height = image.size\n",
    "print(\"width: \",width)\n",
    "print(\"height: \", height)"
   ]
  },
  {
   "cell_type": "markdown",
   "metadata": {},
   "source": [
    "CONVERT TO GRAY SCALE"
   ]
  },
  {
   "cell_type": "code",
   "execution_count": 13,
   "metadata": {},
   "outputs": [],
   "source": [
    "from PIL import Image\n",
    "imgG = Image.open('/Users/apple/Desktop/challenge-week-1/data/rgb_images/9.jpeg').convert('L')\n",
    "gray_image = ImageOps.grayscale(imgG)\n",
    "gray_image.show()"
   ]
  },
  {
   "cell_type": "markdown",
   "metadata": {},
   "source": [
    "DICOM IMAGE"
   ]
  },
  {
   "cell_type": "code",
   "execution_count": 14,
   "metadata": {},
   "outputs": [
    {
     "ename": "IndexError",
     "evalue": "list index out of range",
     "output_type": "error",
     "traceback": [
      "\u001b[0;31m---------------------------------------------------------------------------\u001b[0m",
      "\u001b[0;31mIndexError\u001b[0m                                Traceback (most recent call last)",
      "\u001b[0;32m<ipython-input-14-23411d6ea431>\u001b[0m in \u001b[0;36m<module>\u001b[0;34m\u001b[0m\n\u001b[1;32m      1\u001b[0m \u001b[0;32mfrom\u001b[0m \u001b[0mpydicom\u001b[0m\u001b[0;34m.\u001b[0m\u001b[0mdata\u001b[0m \u001b[0;32mimport\u001b[0m \u001b[0mget_testdata_files\u001b[0m\u001b[0;34m\u001b[0m\u001b[0;34m\u001b[0m\u001b[0m\n\u001b[0;32m----> 2\u001b[0;31m \u001b[0mfilename\u001b[0m \u001b[0;34m=\u001b[0m \u001b[0mget_testdata_files\u001b[0m\u001b[0;34m(\u001b[0m\u001b[0;34m'/Users/apple/Desktop/challenge-week-1/data/dicom_images/0009.DCM'\u001b[0m\u001b[0;34m)\u001b[0m\u001b[0;34m[\u001b[0m\u001b[0;36m0\u001b[0m\u001b[0;34m]\u001b[0m\u001b[0;34m\u001b[0m\u001b[0;34m\u001b[0m\u001b[0m\n\u001b[0m\u001b[1;32m      3\u001b[0m \u001b[0mdataset\u001b[0m \u001b[0;34m=\u001b[0m \u001b[0mpydicom\u001b[0m\u001b[0;34m.\u001b[0m\u001b[0mdcmread\u001b[0m\u001b[0;34m(\u001b[0m\u001b[0mfilename\u001b[0m\u001b[0;34m)\u001b[0m\u001b[0;34m\u001b[0m\u001b[0;34m\u001b[0m\u001b[0m\n\u001b[1;32m      4\u001b[0m \u001b[0mpat_name\u001b[0m \u001b[0;34m=\u001b[0m \u001b[0mdataset\u001b[0m\u001b[0;34m.\u001b[0m\u001b[0mPatientName\u001b[0m\u001b[0;34m\u001b[0m\u001b[0;34m\u001b[0m\u001b[0m\n\u001b[1;32m      5\u001b[0m \u001b[0mdisplay_name\u001b[0m \u001b[0;34m=\u001b[0m \u001b[0mpat_name\u001b[0m\u001b[0;34m.\u001b[0m\u001b[0mfamily_name\u001b[0m \u001b[0;34m+\u001b[0m \u001b[0;34m\", \"\u001b[0m \u001b[0;34m+\u001b[0m \u001b[0mpat_name\u001b[0m\u001b[0;34m.\u001b[0m\u001b[0mgiven_name\u001b[0m\u001b[0;34m\u001b[0m\u001b[0;34m\u001b[0m\u001b[0m\n",
      "\u001b[0;31mIndexError\u001b[0m: list index out of range"
     ]
    }
   ],
   "source": [
    "from pydicom.data import get_testdata_files\n",
    "filename = get_testdata_files('/Users/apple/Desktop/challenge-week-1/data/dicom_images/0009.DCM')[0]\n",
    "dataset = pydicom.dcmread(filename)\n",
    "pat_name = dataset.PatientName\n",
    "display_name = pat_name.family_name + \", \" + pat_name.given_name\n",
    "if 'PixelData' in dataset:\n",
    "    rows = int(dataset.Rows)\n",
    "    cols = int(dataset.Columns)\n",
    "    print(\"Image size.......: {rows:d} x {cols:d}, {size:d} bytes\".format(\n",
    "        rows=rows, cols=cols, size=len(dataset.PixelData)))\n",
    "    if 'PixelSpacing' in dataset:\n",
    "        print(\"Pixel spacing....:\", dataset.PixelSpacing)\n",
    "print(\"Slice location...:\", dataset.get('SliceLocation', \"(missing)\"))\n",
    "\n",
    "# plot the image using matplotlib\n",
    "plt.imshow(dataset.pixel_array, cmap=plt.cm.bone)\n",
    "plt.show()"
   ]
  },
  {
   "cell_type": "code",
   "execution_count": null,
   "metadata": {},
   "outputs": [],
   "source": []
  }
 ],
 "metadata": {
  "kernelspec": {
   "display_name": "Python 3",
   "language": "python",
   "name": "python3"
  },
  "language_info": {
   "codemirror_mode": {
    "name": "ipython",
    "version": 3
   },
   "file_extension": ".py",
   "mimetype": "text/x-python",
   "name": "python",
   "nbconvert_exporter": "python",
   "pygments_lexer": "ipython3",
   "version": "3.8.3"
  },
  "toc": {
   "base_numbering": 1,
   "nav_menu": {},
   "number_sections": true,
   "sideBar": true,
   "skip_h1_title": false,
   "title_cell": "Table of Contents",
   "title_sidebar": "Contents",
   "toc_cell": false,
   "toc_position": {},
   "toc_section_display": true,
   "toc_window_display": false
  }
 },
 "nbformat": 4,
 "nbformat_minor": 4
}
